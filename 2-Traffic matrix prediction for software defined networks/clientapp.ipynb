{
 "cells": [
  {
   "cell_type": "code",
   "execution_count": 2,
   "metadata": {},
   "outputs": [],
   "source": [
    "import pandas as pd\n",
    "import numpy as np\n",
    "import json\n",
    "import requests\n",
    "import tensorflow as tf\n",
    "import subprocess\n"
   ]
  },
  {
   "cell_type": "code",
   "execution_count": 3,
   "metadata": {},
   "outputs": [
    {
     "data": {
      "text/plain": [
       "<Popen: returncode: None args: 'python ./servingapp.py'>"
      ]
     },
     "execution_count": 3,
     "metadata": {},
     "output_type": "execute_result"
    }
   ],
   "source": [
    "#This will start the serving app \"servingapp.py\" that will return the prediction of the next traffic matrix (one time step at a time)\n",
    "\n",
    "subprocess.Popen(\"python ./servingapp.py\")"
   ]
  },
  {
   "cell_type": "code",
   "execution_count": 4,
   "metadata": {},
   "outputs": [],
   "source": [
    "file_name = \"./Abilene-OD_pair.txt\"\n",
    "df = pd.read_csv(file_name)\n",
    "data_columns = list(df.columns.values)\n",
    "data_columns.remove('time')\n",
    "data = df[data_columns].values\n",
    "data = np.clip(data, 0.0, np.percentile(data.flatten(), 99))  # we use 99% as the threshold\n",
    "df[data_columns] = data\n",
    "timesteps=data.shape[0]\n",
    "df['time']=df.index\n",
    "times= df['time']\n",
    "max_list = np.max(data, axis=0)\n",
    "min_list = np.min(data, axis=0)\n",
    "data = (data - min_list) / (max_list - min_list)\n",
    "data[np.isnan(data)] = 0\n",
    "data[np.isinf(data)] = 0\n",
    "x_data = []\n",
    "for i in range(timesteps ):\n",
    "    x=data[i]\n",
    "    x_data.append(x)\n",
    "\n",
    "x_data = np.array(x_data)\n",
    "\n",
    "x_data_2d=x_data.reshape((48096,12,12))\n",
    "x_data_2d.shape\n",
    "\n",
    "\n",
    "split_time=int(timesteps*0.8)\n",
    "time_train = times[:split_time]\n",
    "x_train = x_data_2d[:split_time]\n",
    "time_valid = times[split_time:]\n",
    "x_valid = x_data_2d[split_time:]\n",
    "\n",
    "\n",
    "pred = x_valid[0:10]"
   ]
  },
  {
   "cell_type": "code",
   "execution_count": 5,
   "metadata": {},
   "outputs": [
    {
     "data": {
      "text/plain": [
       "(10, 12, 12)"
      ]
     },
     "execution_count": 5,
     "metadata": {},
     "output_type": "execute_result"
    }
   ],
   "source": [
    "pred.shape"
   ]
  },
  {
   "cell_type": "code",
   "execution_count": 8,
   "metadata": {},
   "outputs": [],
   "source": [
    "# takes a 10*12*12 ip matrix\n",
    "# the first dim (10),is the time dimension, the prediction needs 10 previous points/matrices in time.\n",
    "# each 12*12 slice is a traffic matrix that contains the traffic between the IP repsented by the row incdice and the IP repsented by the column indice \n",
    "\n",
    "def get_prediction(matrix):\n",
    "    data = {\"data\": matrix.tolist()}\n",
    "    url = \"http://localhost:5000/predict\"\n",
    "    return requests.post(url, json=data).json()['result']"
   ]
  },
  {
   "cell_type": "code",
   "execution_count": 9,
   "metadata": {},
   "outputs": [
    {
     "data": {
      "text/plain": [
       "[[[[0.0006681997328996658],\n",
       "   [0.0035431080032140017],\n",
       "   [0.0048817521892488],\n",
       "   [0.001586447237059474],\n",
       "   [0.0020697100553661585],\n",
       "   [0.0010663646971806884],\n",
       "   [0.00041140473331324756],\n",
       "   [0.013828284107148647],\n",
       "   [0.022555632516741753],\n",
       "   [4.462548531591892e-06],\n",
       "   [0.0014476882060989738],\n",
       "   [0.0063233692198991776]],\n",
       "  [[0.0023666168563067913],\n",
       "   [0.14810225367546082],\n",
       "   [0.02771497517824173],\n",
       "   [0.057470329105854034],\n",
       "   [0.13430996239185333],\n",
       "   [0.06404172629117966],\n",
       "   [0.04146197810769081],\n",
       "   [0.058104317635297775],\n",
       "   [0.042695432901382446],\n",
       "   [0.0016498722834512591],\n",
       "   [0.1446528136730194],\n",
       "   [0.11873020231723785]],\n",
       "  [[0.0014233049005270004],\n",
       "   [0.09378872811794281],\n",
       "   [0.3494775891304016],\n",
       "   [0.03170483931899071],\n",
       "   [0.06447447091341019],\n",
       "   [0.08895116299390793],\n",
       "   [0.0349503755569458],\n",
       "   [0.07787106931209564],\n",
       "   [0.04175998643040657],\n",
       "   [0.10246382653713226],\n",
       "   [0.06933742016553879],\n",
       "   [0.13856902718544006]],\n",
       "  [[0.005042676813900471],\n",
       "   [0.09082359075546265],\n",
       "   [0.16262955963611603],\n",
       "   [0.03206644952297211],\n",
       "   [0.15121690928936005],\n",
       "   [0.22803252935409546],\n",
       "   [0.15408286452293396],\n",
       "   [0.04186306148767471],\n",
       "   [0.11486635357141495],\n",
       "   [0.020680580288171768],\n",
       "   [0.061081115156412125],\n",
       "   [0.22835864126682281]],\n",
       "  [[0.015704678371548653],\n",
       "   [0.09409510344266891],\n",
       "   [0.055337585508823395],\n",
       "   [0.06498664617538452],\n",
       "   [0.06042202189564705],\n",
       "   [0.07626530528068542],\n",
       "   [0.015441594645380974],\n",
       "   [0.026599101722240448],\n",
       "   [0.020463112741708755],\n",
       "   [0.0009392600622959435],\n",
       "   [0.005201832391321659],\n",
       "   [0.01022750698029995]],\n",
       "  [[0.00043391951476223767],\n",
       "   [0.07045893371105194],\n",
       "   [0.1820533573627472],\n",
       "   [0.02618773840367794],\n",
       "   [0.007327379658818245],\n",
       "   [0.059505827724933624],\n",
       "   [0.01162696909159422],\n",
       "   [0.06230152025818825],\n",
       "   [0.03950408846139908],\n",
       "   [0.004103802610188723],\n",
       "   [0.06946180015802383],\n",
       "   [0.07339075952768326]],\n",
       "  [[7.501282379962504e-05],\n",
       "   [0.12210473418235779],\n",
       "   [0.07859699428081512],\n",
       "   [0.04194197058677673],\n",
       "   [0.05360092967748642],\n",
       "   [0.20607253909111023],\n",
       "   [0.19200778007507324],\n",
       "   [0.04957782104611397],\n",
       "   [0.013063229620456696],\n",
       "   [0.07357131689786911],\n",
       "   [0.08274815231561661],\n",
       "   [0.12715858221054077]],\n",
       "  [[0.010145141743123531],\n",
       "   [0.10372743755578995],\n",
       "   [0.27339082956314087],\n",
       "   [0.05093185976147652],\n",
       "   [0.03474830090999603],\n",
       "   [0.0499400869011879],\n",
       "   [0.054960913956165314],\n",
       "   [0.04526486247777939],\n",
       "   [0.10045044124126434],\n",
       "   [0.07123754918575287],\n",
       "   [0.1005658507347107],\n",
       "   [0.0679982379078865]],\n",
       "  [[0.01075518038123846],\n",
       "   [0.060115519911050797],\n",
       "   [0.09447278082370758],\n",
       "   [0.12572647631168365],\n",
       "   [0.020648861303925514],\n",
       "   [0.08083576709032059],\n",
       "   [0.04031091183423996],\n",
       "   [0.26261836290359497],\n",
       "   [0.3876696825027466],\n",
       "   [0.006941399537026882],\n",
       "   [0.09541388601064682],\n",
       "   [0.10885050147771835]],\n",
       "  [[3.286631545051932e-05],\n",
       "   [0.0016711275093257427],\n",
       "   [0.0002937175740953535],\n",
       "   [0.044196002185344696],\n",
       "   [0.0005009842570871115],\n",
       "   [0.002854636637493968],\n",
       "   [0.00045929409679956734],\n",
       "   [0.17334067821502686],\n",
       "   [0.008179273456335068],\n",
       "   [0.03760931268334389],\n",
       "   [0.32280272245407104],\n",
       "   [0.000733053486328572]],\n",
       "  [[0.0007699723355472088],\n",
       "   [0.04392413794994354],\n",
       "   [0.040997665375471115],\n",
       "   [0.02122422307729721],\n",
       "   [0.02128971926867962],\n",
       "   [0.024765996262431145],\n",
       "   [0.007489755749702454],\n",
       "   [0.0461961068212986],\n",
       "   [0.035995010286569595],\n",
       "   [0.03596252575516701],\n",
       "   [0.09692461043596268],\n",
       "   [0.02168225683271885]],\n",
       "  [[0.004208977334201336],\n",
       "   [0.35035550594329834],\n",
       "   [0.27040717005729675],\n",
       "   [0.157866433262825],\n",
       "   [0.0877910628914833],\n",
       "   [0.2785625159740448],\n",
       "   [0.0665472075343132],\n",
       "   [0.1847156435251236],\n",
       "   [0.7946246862411499],\n",
       "   [0.004952874965965748],\n",
       "   [0.22330985963344574],\n",
       "   [0.8606916666030884]]]]"
      ]
     },
     "execution_count": 9,
     "metadata": {},
     "output_type": "execute_result"
    }
   ],
   "source": [
    "get_prediction(pred)"
   ]
  },
  {
   "cell_type": "code",
   "execution_count": null,
   "metadata": {},
   "outputs": [],
   "source": []
  }
 ],
 "metadata": {
  "kernelspec": {
   "display_name": "Python 3.10.3 64-bit",
   "language": "python",
   "name": "python3"
  },
  "language_info": {
   "codemirror_mode": {
    "name": "ipython",
    "version": 3
   },
   "file_extension": ".py",
   "mimetype": "text/x-python",
   "name": "python",
   "nbconvert_exporter": "python",
   "pygments_lexer": "ipython3",
   "version": "3.10.3"
  },
  "orig_nbformat": 4,
  "vscode": {
   "interpreter": {
    "hash": "d039d092d32c8f3d55b0183b49a3956ae4647ae2f3365b8cbc81c5c00d96d55b"
   }
  }
 },
 "nbformat": 4,
 "nbformat_minor": 2
}
